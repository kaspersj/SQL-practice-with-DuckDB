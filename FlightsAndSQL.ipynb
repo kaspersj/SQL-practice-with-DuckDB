{
 "cells": [
  {
   "cell_type": "markdown",
   "metadata": {},
   "source": [
    "The goal of this notebook is to query the rich dataset of nycflights13, and to recreate tables and calculations from my stats306 repository problemset 2, found at https://github.com/kaspersj/Stats-306/blob/master/problemset2.ipynb"
   ]
  },
  {
   "cell_type": "code",
   "execution_count": 3,
   "metadata": {},
   "outputs": [],
   "source": [
    "import pandas as pd\n",
    "import numpy as np\n",
    "import nycflights13 as nyc\n",
    "# import pyspark\n",
    "import duckdb"
   ]
  },
  {
   "cell_type": "code",
   "execution_count": 4,
   "metadata": {},
   "outputs": [],
   "source": [
    "flights = nyc.flights\n",
    "airlines = nyc.airlines"
   ]
  },
  {
   "cell_type": "code",
   "execution_count": 5,
   "metadata": {},
   "outputs": [
    {
     "data": {
      "text/plain": [
       "6398744"
      ]
     },
     "execution_count": 5,
     "metadata": {},
     "output_type": "execute_result"
    }
   ],
   "source": [
    "flights.size"
   ]
  },
  {
   "cell_type": "code",
   "execution_count": 6,
   "metadata": {},
   "outputs": [
    {
     "data": {
      "text/plain": [
       "Index(['year', 'month', 'day', 'dep_time', 'sched_dep_time', 'dep_delay',\n",
       "       'arr_time', 'sched_arr_time', 'arr_delay', 'carrier', 'flight',\n",
       "       'tailnum', 'origin', 'dest', 'air_time', 'distance', 'hour', 'minute',\n",
       "       'time_hour'],\n",
       "      dtype='object')"
      ]
     },
     "execution_count": 6,
     "metadata": {},
     "output_type": "execute_result"
    }
   ],
   "source": [
    "flights.columns"
   ]
  },
  {
   "cell_type": "code",
   "execution_count": 7,
   "metadata": {},
   "outputs": [
    {
     "data": {
      "text/plain": [
       "32"
      ]
     },
     "execution_count": 7,
     "metadata": {},
     "output_type": "execute_result"
    }
   ],
   "source": [
    "airlines.size"
   ]
  },
  {
   "cell_type": "code",
   "execution_count": 8,
   "metadata": {},
   "outputs": [
    {
     "data": {
      "text/plain": [
       "Index(['carrier', 'name'], dtype='object')"
      ]
     },
     "execution_count": 8,
     "metadata": {},
     "output_type": "execute_result"
    }
   ],
   "source": [
    "airlines.columns"
   ]
  },
  {
   "cell_type": "markdown",
   "metadata": {},
   "source": [
    "## Problem 1:\n",
    "Extract all the flights that took place in months that begin with the letter \"A\""
   ]
  },
  {
   "cell_type": "code",
   "execution_count": 9,
   "metadata": {},
   "outputs": [
    {
     "data": {
      "text/plain": [
       "┌───────┬───────┬───────┬──────────┬────────────────┬───┬──────────┬──────────┬───────┬────────┬──────────────────────┐\n",
       "│ year  │ month │  day  │ dep_time │ sched_dep_time │ … │ air_time │ distance │ hour  │ minute │      time_hour       │\n",
       "│ int64 │ int64 │ int64 │  double  │     int64      │   │  double  │  int64   │ int64 │ int64  │       varchar        │\n",
       "├───────┼───────┼───────┼──────────┼────────────────┼───┼──────────┼──────────┼───────┼────────┼──────────────────────┤\n",
       "│  2013 │     4 │     1 │    454.0 │            500 │ … │     84.0 │      529 │     5 │      0 │ 2013-04-01T09:00:00Z │\n",
       "│  2013 │     4 │     1 │    509.0 │            515 │ … │    194.0 │     1400 │     5 │     15 │ 2013-04-01T09:00:00Z │\n",
       "│  2013 │     4 │     1 │    526.0 │            530 │ … │    206.0 │     1416 │     5 │     30 │ 2013-04-01T09:00:00Z │\n",
       "│  2013 │     4 │     1 │    534.0 │            540 │ … │    152.0 │     1089 │     5 │     40 │ 2013-04-01T09:00:00Z │\n",
       "│  2013 │     4 │     1 │    542.0 │            545 │ … │    191.0 │     1576 │     5 │     45 │ 2013-04-01T09:00:00Z │\n",
       "│  2013 │     4 │     1 │    543.0 │            545 │ … │    202.0 │     1598 │     5 │     45 │ 2013-04-01T09:00:00Z │\n",
       "│  2013 │     4 │     1 │    551.0 │            600 │ … │    105.0 │      214 │     6 │      0 │ 2013-04-01T10:00:00Z │\n",
       "│  2013 │     4 │     1 │    552.0 │            600 │ … │     32.0 │      184 │     6 │      0 │ 2013-04-01T10:00:00Z │\n",
       "│  2013 │     4 │     1 │    553.0 │            600 │ … │    121.0 │      719 │     6 │      0 │ 2013-04-01T10:00:00Z │\n",
       "│  2013 │     4 │     1 │    554.0 │            600 │ … │    148.0 │      963 │     6 │      0 │ 2013-04-01T10:00:00Z │\n",
       "│    ·  │     · │     · │      ·   │             ·  │ · │       ·  │       ·  │     · │      · │          ·           │\n",
       "│    ·  │     · │     · │      ·   │             ·  │ · │       ·  │       ·  │     · │      · │          ·           │\n",
       "│    ·  │     · │     · │      ·   │             ·  │ · │       ·  │       ·  │     · │      · │          ·           │\n",
       "│  2013 │     4 │    11 │   1356.0 │           1405 │ … │     58.0 │      228 │    14 │      5 │ 2013-04-11T18:00:00Z │\n",
       "│  2013 │     4 │    11 │   1358.0 │           1305 │ … │    119.0 │      746 │    13 │      5 │ 2013-04-11T17:00:00Z │\n",
       "│  2013 │     4 │    11 │   1358.0 │           1359 │ … │    113.0 │      762 │    13 │     59 │ 2013-04-11T17:00:00Z │\n",
       "│  2013 │     4 │    11 │   1401.0 │           1300 │ … │    126.0 │      719 │    13 │      0 │ 2013-04-11T17:00:00Z │\n",
       "│  2013 │     4 │    11 │   1402.0 │           1359 │ … │    149.0 │     1089 │    13 │     59 │ 2013-04-11T17:00:00Z │\n",
       "│  2013 │     4 │    11 │   1403.0 │           1225 │ … │    129.0 │      733 │    12 │     25 │ 2013-04-11T16:00:00Z │\n",
       "│  2013 │     4 │    11 │   1404.0 │           1340 │ … │     46.0 │      273 │    13 │     40 │ 2013-04-11T17:00:00Z │\n",
       "│  2013 │     4 │    11 │   1406.0 │           1355 │ … │    116.0 │      725 │    13 │     55 │ 2013-04-11T17:00:00Z │\n",
       "│  2013 │     4 │    11 │   1409.0 │           1200 │ … │    122.0 │      733 │    12 │      0 │ 2013-04-11T16:00:00Z │\n",
       "│  2013 │     4 │    11 │   1412.0 │           1325 │ … │    323.0 │     2454 │    13 │     25 │ 2013-04-11T17:00:00Z │\n",
       "├───────┴───────┴───────┴──────────┴────────────────┴───┴──────────┴──────────┴───────┴────────┴──────────────────────┤\n",
       "│ ? rows (>9999 rows, 20 shown)                                                                 19 columns (10 shown) │\n",
       "└─────────────────────────────────────────────────────────────────────────────────────────────────────────────────────┘"
      ]
     },
     "execution_count": 9,
     "metadata": {},
     "output_type": "execute_result"
    }
   ],
   "source": [
    "# flights that took place in months starting with the letter \"A\" occurred in either April (month 4) or August (month 8)\n",
    "q1results = duckdb.query(\"select * from flights where month in (4, 8)\") \n",
    "q1results"
   ]
  },
  {
   "cell_type": "markdown",
   "metadata": {},
   "source": [
    "# Problem 2\n",
    "\n",
    "Find the number of United Airlines flights that departed exactly on time and arrived exactly on time."
   ]
  },
  {
   "cell_type": "code",
   "execution_count": 10,
   "metadata": {},
   "outputs": [
    {
     "data": {
      "text/plain": [
       "┌──────────────────┐\n",
       "│ problemTwoAnswer │\n",
       "│      int64       │\n",
       "├──────────────────┤\n",
       "│               58 │\n",
       "└──────────────────┘"
      ]
     },
     "execution_count": 10,
     "metadata": {},
     "output_type": "execute_result"
    }
   ],
   "source": [
    "q2result = duckdb.query(\"select count(*) as problemTwoAnswer from flights where (carrier = 'UA' and (dep_delay == 0 and arr_delay == 0))\")\n",
    "q2result"
   ]
  },
  {
   "cell_type": "markdown",
   "metadata": {},
   "source": [
    "# Problem 3\n",
    "\n",
    "Find all flights destined for LAX or SFO which departed more than an hour late, but did not arrive late."
   ]
  },
  {
   "cell_type": "code",
   "execution_count": 11,
   "metadata": {},
   "outputs": [
    {
     "data": {
      "text/plain": [
       "┌───────┬───────┬───────┬──────────┬────────────────┬───┬──────────┬──────────┬───────┬────────┬──────────────────────┐\n",
       "│ year  │ month │  day  │ dep_time │ sched_dep_time │ … │ air_time │ distance │ hour  │ minute │      time_hour       │\n",
       "│ int64 │ int64 │ int64 │  double  │     int64      │   │  double  │  int64   │ int64 │ int64  │       varchar        │\n",
       "├───────┼───────┼───────┼──────────┼────────────────┼───┼──────────┼──────────┼───────┼────────┼──────────────────────┤\n",
       "│  2013 │     4 │     5 │    932.0 │            831 │ … │    301.0 │     2454 │     8 │     31 │ 2013-04-05T12:00:00Z │\n",
       "├───────┴───────┴───────┴──────────┴────────────────┴───┴──────────┴──────────┴───────┴────────┴──────────────────────┤\n",
       "│ 1 rows                                                                                        19 columns (10 shown) │\n",
       "└─────────────────────────────────────────────────────────────────────────────────────────────────────────────────────┘"
      ]
     },
     "execution_count": 11,
     "metadata": {},
     "output_type": "execute_result"
    }
   ],
   "source": [
    "q3results = duckdb.query(\"select * from flights where ((dest = 'LAX' OR dest = 'SFO') AND dep_delay >= 60 AND (arr_delay < 0))\")\n",
    "q3results"
   ]
  },
  {
   "cell_type": "markdown",
   "metadata": {},
   "source": [
    "# Problem 4\n",
    "\n",
    "Find the number of flights in May that are missing their departure time or their arrival time, but not both. "
   ]
  },
  {
   "cell_type": "code",
   "execution_count": 12,
   "metadata": {},
   "outputs": [
    {
     "data": {
      "text/plain": [
       "┌───────────────┐\n",
       "│ probFourCount │\n",
       "│     int64     │\n",
       "├───────────────┤\n",
       "│            38 │\n",
       "└───────────────┘"
      ]
     },
     "execution_count": 12,
     "metadata": {},
     "output_type": "execute_result"
    }
   ],
   "source": [
    "q4results = duckdb.query(\"SELECT count(*) as probFourCount from flights WHERE month = 5 AND ((arr_time IS NOT NULL) <> (dep_time is NOT NULL))\") # <> denotes xor\n",
    "q4results"
   ]
  },
  {
   "cell_type": "markdown",
   "metadata": {},
   "source": [
    "# Problem 5\n",
    "\n",
    "There are four flights which have a tail number that does not begin with the letter \"N\". Find those "
   ]
  },
  {
   "cell_type": "code",
   "execution_count": 13,
   "metadata": {},
   "outputs": [
    {
     "data": {
      "text/plain": [
       "┌───────┬───────┬───────┬──────────┬────────────────┬───┬──────────┬──────────┬───────┬────────┬──────────────────────┐\n",
       "│ year  │ month │  day  │ dep_time │ sched_dep_time │ … │ air_time │ distance │ hour  │ minute │      time_hour       │\n",
       "│ int64 │ int64 │ int64 │  double  │     int64      │   │  double  │  int64   │ int64 │ int64  │       varchar        │\n",
       "├───────┼───────┼───────┼──────────┼────────────────┼───┼──────────┼──────────┼───────┼────────┼──────────────────────┤\n",
       "│  2013 │     2 │    11 │   1508.0 │           1400 │ … │    131.0 │      762 │    14 │      0 │ 2013-02-11T19:00:00Z │\n",
       "│  2013 │     3 │    23 │   1340.0 │           1300 │ … │    153.0 │      950 │    13 │      0 │ 2013-03-23T17:00:00Z │\n",
       "│  2013 │     3 │    24 │    859.0 │            835 │ … │    143.0 │      944 │     8 │     35 │ 2013-03-24T12:00:00Z │\n",
       "│  2013 │     7 │     5 │   1253.0 │           1259 │ … │    112.0 │      762 │    12 │     59 │ 2013-07-05T16:00:00Z │\n",
       "├───────┴───────┴───────┴──────────┴────────────────┴───┴──────────┴──────────┴───────┴────────┴──────────────────────┤\n",
       "│ 4 rows                                                                                        19 columns (10 shown) │\n",
       "└─────────────────────────────────────────────────────────────────────────────────────────────────────────────────────┘"
      ]
     },
     "execution_count": 13,
     "metadata": {},
     "output_type": "execute_result"
    }
   ],
   "source": [
    "q5results = duckdb.query(\"SELECT * FROM flights where tailnum not like 'N%'\")\n",
    "q5results"
   ]
  },
  {
   "cell_type": "markdown",
   "metadata": {},
   "source": [
    "# Problem 6\n",
    "\n",
    "Find the unique tail numbers(s) of the flights that were in the air for the second shortest and third longest amounts of time. Store them in variables shortest2_tail_num and longest3_tail_num, respectively."
   ]
  },
  {
   "cell_type": "markdown",
   "metadata": {},
   "source": [
    "--> Running into the issue: there is no guarantee that an R function can be translated into sql code\n",
    "- To solve this issue, instead of using R's mutate and min_rank, I found the second shortest and third longest air_time values and plugged those into a where clause"
   ]
  },
  {
   "cell_type": "code",
   "execution_count": 14,
   "metadata": {},
   "outputs": [
    {
     "data": {
      "text/plain": [
       "┌─────────┐\n",
       "│ tailnum │\n",
       "│ varchar │\n",
       "├─────────┤\n",
       "│ N947UW  │\n",
       "│ N12195  │\n",
       "│ N14920  │\n",
       "│ N13955  │\n",
       "│ N8501F  │\n",
       "│ N16987  │\n",
       "│ N11191  │\n",
       "│ N12160  │\n",
       "│ N11109  │\n",
       "│ N12921  │\n",
       "│ N29906  │\n",
       "│ N13913  │\n",
       "│ N27200  │\n",
       "│ N18101  │\n",
       "├─────────┤\n",
       "│ 14 rows │\n",
       "└─────────┘"
      ]
     },
     "execution_count": 14,
     "metadata": {},
     "output_type": "execute_result"
    }
   ],
   "source": [
    "q6results_secondShortest = duckdb.query(\"SELECT distinct(tailnum) from flights WHERE air_time = (SELECT min(air_time) as secondShortest from flights where air_time > (select min(air_time) from flights))\")\n",
    "    #\"SELECT * FROM (SELECT DISTINCT(tailnum), row_number() OVER (ORDER BY air_time ASC) AS RN from flights) WHERE RN = 2\")\n",
    "    #\"SELECT distinct(tailnum), nth_value(tailnum, 2) OVER (ORDER BY air_time ASC) from flights\")\n",
    "    #\"select distinct(tailnum), (nth_value(tailnum, 2) OVER (ORDER BY air_time ASC), nth_value(tailnum, 2) OVER (ORDER BY tailnum ROWS 2 PRECEDING) FROM flights\")\n",
    "q6results_secondShortest"
   ]
  },
  {
   "cell_type": "code",
   "execution_count": 15,
   "metadata": {},
   "outputs": [
    {
     "data": {
      "text/plain": [
       "┌─────────┐\n",
       "│ tailnum │\n",
       "│ varchar │\n",
       "├─────────┤\n",
       "│ N380HA  │\n",
       "│ N388HA  │\n",
       "└─────────┘"
      ]
     },
     "execution_count": 15,
     "metadata": {},
     "output_type": "execute_result"
    }
   ],
   "source": [
    "q6results_thirdLongest = duckdb.query(\"SELECT distinct(tailnum) from flights WHERE air_time = (SELECT air_time from flights ORDER BY air_time DESC LIMIT 1 OFFSET 2)\")\n",
    "q6results_thirdLongest"
   ]
  },
  {
   "cell_type": "markdown",
   "metadata": {},
   "source": [
    "# Problem 7\n",
    "\n",
    "Sort the rows of flights such that the months are arranged in the following order: spring, summer, fall, winter. (Here we define winter to be January-March, spring is April-June, etc.) Within each season, the months should be sorted in ascending order. After sorting, drop all columns except for month, day and tail number. Store the sorted and subsetted table in a variable called table7."
   ]
  },
  {
   "cell_type": "code",
   "execution_count": 16,
   "metadata": {},
   "outputs": [
    {
     "data": {
      "text/plain": [
       "┌───────┬───────┬─────────┐\n",
       "│ month │  day  │ tailnum │\n",
       "│ int64 │ int64 │ varchar │\n",
       "├───────┼───────┼─────────┤\n",
       "│     4 │     1 │ N566UW  │\n",
       "│     4 │     1 │ N76288  │\n",
       "│     4 │     1 │ N76517  │\n",
       "│     4 │     1 │ N5DSAA  │\n",
       "│     4 │     1 │ N784JB  │\n",
       "│     4 │     1 │ N590JB  │\n",
       "│     4 │     1 │ N737US  │\n",
       "│     4 │     1 │ N750UW  │\n",
       "│     4 │     1 │ N510MQ  │\n",
       "│     4 │     1 │ N723EV  │\n",
       "│     · │     · │   ·     │\n",
       "│     · │     · │   ·     │\n",
       "│     · │     · │   ·     │\n",
       "│     4 │    11 │ N826AS  │\n",
       "│     4 │    11 │ N11137  │\n",
       "│     4 │    11 │ N604DL  │\n",
       "│     4 │    11 │ N17126  │\n",
       "│     4 │    11 │ N5CHAA  │\n",
       "│     4 │    11 │ N584AA  │\n",
       "│     4 │    11 │ N249JB  │\n",
       "│     4 │    11 │ N284WN  │\n",
       "│     4 │    11 │ N823UA  │\n",
       "│     4 │    11 │ N17105  │\n",
       "├───────┴───────┴─────────┤\n",
       "│ ? rows        3 columns │\n",
       "└─────────────────────────┘"
      ]
     },
     "execution_count": 16,
     "metadata": {},
     "output_type": "execute_result"
    }
   ],
   "source": [
    "q7result = duckdb.query(\"SELECT month, day, tailnum from flights ORDER BY case month \\\n",
    "                            when '4' then 1 \\\n",
    "                            when '5' then 2 \\\n",
    "                            when '6' then 3 \\\n",
    "                            when '7' then 4 \\\n",
    "                            when '8' then 5 \\\n",
    "                            when '9' then 6 \\\n",
    "                            when '10' then 7 \\\n",
    "                            when '11' then 8 \\\n",
    "                            when '12' then 9 \\\n",
    "                            when '1' then 10 \\\n",
    "                            when '2' then 11 \\\n",
    "                            when '3' then 12 \\\n",
    "                        end, \\\n",
    "                        month\")\n",
    "q7result"
   ]
  },
  {
   "cell_type": "markdown",
   "metadata": {},
   "source": [
    "# Problem 8\n",
    "\n",
    "Drop the even-numbered columns of flights. Store the resulting data table in a variable called table8."
   ]
  },
  {
   "cell_type": "code",
   "execution_count": 17,
   "metadata": {},
   "outputs": [
    {
     "data": {
      "text/plain": [
       "┌───────┬───────┬────────────────┬──────────┬───────────┬────────┬─────────┬──────────┬───────┬──────────────────────┐\n",
       "│ year  │  day  │ sched_dep_time │ arr_time │ arr_delay │ flight │ origin  │ air_time │ hour  │      time_hour       │\n",
       "│ int64 │ int64 │     int64      │  double  │  double   │ int64  │ varchar │  double  │ int64 │       varchar        │\n",
       "├───────┼───────┼────────────────┼──────────┼───────────┼────────┼─────────┼──────────┼───────┼──────────────────────┤\n",
       "│  2013 │     1 │            515 │    830.0 │      11.0 │   1545 │ EWR     │    227.0 │     5 │ 2013-01-01T10:00:00Z │\n",
       "│  2013 │     1 │            529 │    850.0 │      20.0 │   1714 │ LGA     │    227.0 │     5 │ 2013-01-01T10:00:00Z │\n",
       "│  2013 │     1 │            540 │    923.0 │      33.0 │   1141 │ JFK     │    160.0 │     5 │ 2013-01-01T10:00:00Z │\n",
       "│  2013 │     1 │            545 │   1004.0 │     -18.0 │    725 │ JFK     │    183.0 │     5 │ 2013-01-01T10:00:00Z │\n",
       "│  2013 │     1 │            600 │    812.0 │     -25.0 │    461 │ LGA     │    116.0 │     6 │ 2013-01-01T11:00:00Z │\n",
       "│  2013 │     1 │            558 │    740.0 │      12.0 │   1696 │ EWR     │    150.0 │     5 │ 2013-01-01T10:00:00Z │\n",
       "│  2013 │     1 │            600 │    913.0 │      19.0 │    507 │ EWR     │    158.0 │     6 │ 2013-01-01T11:00:00Z │\n",
       "│  2013 │     1 │            600 │    709.0 │     -14.0 │   5708 │ LGA     │     53.0 │     6 │ 2013-01-01T11:00:00Z │\n",
       "│  2013 │     1 │            600 │    838.0 │      -8.0 │     79 │ JFK     │    140.0 │     6 │ 2013-01-01T11:00:00Z │\n",
       "│  2013 │     1 │            600 │    753.0 │       8.0 │    301 │ LGA     │    138.0 │     6 │ 2013-01-01T11:00:00Z │\n",
       "│    ·  │     · │             ·  │      ·   │        ·  │      · │  ·      │      ·   │     · │          ·           │\n",
       "│    ·  │     · │             ·  │      ·   │        ·  │      · │  ·      │      ·   │     · │          ·           │\n",
       "│    ·  │     · │             ·  │      ·   │        ·  │      · │  ·      │      ·   │     · │          ·           │\n",
       "│  2013 │    12 │           1015 │   1328.0 │     -12.0 │     75 │ EWR     │    305.0 │    10 │ 2013-01-12T15:00:00Z │\n",
       "│  2013 │    12 │            959 │   1253.0 │       5.0 │    197 │ JFK     │    314.0 │     9 │ 2013-01-12T14:00:00Z │\n",
       "│  2013 │    12 │           1015 │   1120.0 │     -11.0 │   3852 │ EWR     │     44.0 │    10 │ 2013-01-12T15:00:00Z │\n",
       "│  2013 │    12 │           1015 │   1240.0 │     -11.0 │   1705 │ LGA     │    163.0 │    10 │ 2013-01-12T15:00:00Z │\n",
       "│  2013 │    12 │           1015 │   1206.0 │      -2.0 │   1036 │ EWR     │     80.0 │    10 │ 2013-01-12T15:00:00Z │\n",
       "│  2013 │    12 │           1021 │   1335.0 │      -7.0 │   1903 │ LGA     │    146.0 │    10 │ 2013-01-12T15:00:00Z │\n",
       "│  2013 │    12 │           1020 │   1358.0 │      28.0 │    731 │ LGA     │    237.0 │    10 │ 2013-01-12T15:00:00Z │\n",
       "│  2013 │    12 │           1015 │   1320.0 │     -20.0 │   1257 │ LGA     │    194.0 │    10 │ 2013-01-12T15:00:00Z │\n",
       "│  2013 │    12 │           1030 │   1308.0 │     -37.0 │    415 │ JFK     │    140.0 │    10 │ 2013-01-12T15:00:00Z │\n",
       "│  2013 │    12 │           1025 │   1122.0 │      -9.0 │   1026 │ JFK     │     40.0 │    10 │ 2013-01-12T15:00:00Z │\n",
       "├───────┴───────┴────────────────┴──────────┴───────────┴────────┴─────────┴──────────┴───────┴──────────────────────┤\n",
       "│ ? rows (>9999 rows, 20 shown)                                                                           10 columns │\n",
       "└────────────────────────────────────────────────────────────────────────────────────────────────────────────────────┘"
      ]
     },
     "execution_count": 17,
     "metadata": {},
     "output_type": "execute_result"
    }
   ],
   "source": [
    "q8result = duckdb.query(\"SELECT year, day, sched_dep_time, arr_time, arr_delay, flight, origin, air_time, hour, time_hour from flights\") \n",
    "# no function to drop even numbered cols in SQL, so I hard-coded this one\n",
    "q8result"
   ]
  },
  {
   "cell_type": "markdown",
   "metadata": {},
   "source": [
    "# Problem 9\n",
    "\n",
    "Define a flight to be \"spooky\" if it was in the air at 1:13pm on either Halloween or Friday, September 13th. There were 110 spooky flights on Friday the 13th. How many spooky flights are there in total? Store your answer in a variable called nspooky."
   ]
  },
  {
   "cell_type": "code",
   "execution_count": 18,
   "metadata": {},
   "outputs": [
    {
     "data": {
      "text/plain": [
       "┌─────────┐\n",
       "│ nspooky │\n",
       "│  int64  │\n",
       "├─────────┤\n",
       "│     318 │\n",
       "└─────────┘"
      ]
     },
     "execution_count": 18,
     "metadata": {},
     "output_type": "execute_result"
    }
   ],
   "source": [
    "q9result = duckdb.query(\"SELECT count(*) as nspooky from flights where ((day = 13 OR day = 31) AND (month = 9 or month = 10) AND (1313 < arr_time AND 1313 > dep_time))\")\n",
    "q9result"
   ]
  },
  {
   "cell_type": "markdown",
   "metadata": {},
   "source": [
    "# Problem 10\n",
    "\n",
    "Select all the columns in flights which end with \"delay\". In the resulting table, define a new column max_delay which equals the maximum of the departure and arrival delays for each flight. For example, if a flight had a departure delay of -1 and an arrival delay of 10, the max_delay would equal 10. Sort your table in descending order of max_delay and store it in a variable called table10."
   ]
  },
  {
   "cell_type": "code",
   "execution_count": 19,
   "metadata": {},
   "outputs": [
    {
     "data": {
      "text/plain": [
       "┌───────────┬───────────┬───────────┐\n",
       "│ dep_delay │ arr_delay │ max_delay │\n",
       "│  double   │  double   │  double   │\n",
       "├───────────┼───────────┼───────────┤\n",
       "│    1301.0 │    1272.0 │    1301.0 │\n",
       "│    1137.0 │    1127.0 │    1137.0 │\n",
       "│    1126.0 │    1109.0 │    1126.0 │\n",
       "│    1014.0 │    1007.0 │    1014.0 │\n",
       "│    1005.0 │     989.0 │    1005.0 │\n",
       "│     960.0 │     931.0 │     960.0 │\n",
       "│     911.0 │     915.0 │     915.0 │\n",
       "│     899.0 │     850.0 │     899.0 │\n",
       "│     898.0 │     895.0 │     898.0 │\n",
       "│     896.0 │     878.0 │     896.0 │\n",
       "│        ·  │       ·   │       ·   │\n",
       "│        ·  │       ·   │       ·   │\n",
       "│        ·  │       ·   │       ·   │\n",
       "│      38.0 │     129.0 │     129.0 │\n",
       "│     105.0 │     129.0 │     129.0 │\n",
       "│     129.0 │     110.0 │     129.0 │\n",
       "│     129.0 │     106.0 │     129.0 │\n",
       "│     114.0 │     129.0 │     129.0 │\n",
       "│     105.0 │     129.0 │     129.0 │\n",
       "│     129.0 │      86.0 │     129.0 │\n",
       "│     129.0 │     117.0 │     129.0 │\n",
       "│     129.0 │     101.0 │     129.0 │\n",
       "│     117.0 │     129.0 │     129.0 │\n",
       "├───────────┴───────────┴───────────┤\n",
       "│   ? rows (>9999 rows, 20 shown)   │\n",
       "└───────────────────────────────────┘"
      ]
     },
     "execution_count": 19,
     "metadata": {},
     "output_type": "execute_result"
    }
   ],
   "source": [
    "q10result = duckdb.query(\"SELECT dep_delay, arr_delay, GREATEST(dep_delay, arr_delay) as max_delay from flights ORDER BY max_delay DESC \") # unfortunately the LIKE operator works within columns, not on column names\n",
    "q10result"
   ]
  },
  {
   "cell_type": "markdown",
   "metadata": {},
   "source": [
    "This is the end of this notebook."
   ]
  },
  {
   "cell_type": "markdown",
   "metadata": {},
   "source": []
  }
 ],
 "metadata": {
  "kernelspec": {
   "display_name": "venv",
   "language": "python",
   "name": "python3"
  },
  "language_info": {
   "codemirror_mode": {
    "name": "ipython",
    "version": 3
   },
   "file_extension": ".py",
   "mimetype": "text/x-python",
   "name": "python",
   "nbconvert_exporter": "python",
   "pygments_lexer": "ipython3",
   "version": "3.12.4"
  }
 },
 "nbformat": 4,
 "nbformat_minor": 2
}
